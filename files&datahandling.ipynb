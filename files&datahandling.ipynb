{
  "nbformat": 4,
  "nbformat_minor": 0,
  "metadata": {
    "colab": {
      "provenance": []
    },
    "kernelspec": {
      "name": "python3",
      "display_name": "Python 3"
    },
    "language_info": {
      "name": "python"
    }
  },
  "cells": [
    {
      "cell_type": "markdown",
      "source": [
        "                                                  **THEORETICAL QUESTIONS**"
      ],
      "metadata": {
        "id": "2hEINz1H8cM2"
      }
    },
    {
      "cell_type": "markdown",
      "source": [
        " Q1. What is the difference between interpreted and compiled languages?"
      ],
      "metadata": {
        "id": "habUPHqaBU2_"
      }
    },
    {
      "cell_type": "markdown",
      "source": [
        "- Interpreted: Code is executed line by line by an interpreter. This allows for\n",
        "  dynamic changes and debugging but can be slower.\n",
        "     * Example: Python. Code is read and executed directly.\n",
        "- Compiled: Code is first translated into machine code by a compiler. This\n",
        "  results in faster execution as the machine code is optimized for the specific hardware.\n",
        "     * Example: C++. Compilation step is required before execution."
      ],
      "metadata": {
        "id": "wWAQgCta8wKr"
      }
    },
    {
      "cell_type": "markdown",
      "source": [
        "Q2.What is exception handling in Python?"
      ],
      "metadata": {
        "id": "e90iYc4HCHKn"
      }
    },
    {
      "cell_type": "markdown",
      "source": [
        "- Exception handling is a mechanism to manage errors or unexpected events  \n",
        "  during program execution. It uses try, except, and finally blocks to gracefully handle exceptions and prevent program crashes."
      ],
      "metadata": {
        "id": "w6NFQ30RESSe"
      }
    },
    {
      "cell_type": "markdown",
      "source": [
        "Q3. What is the purpose of the finally block in exception handling?\n",
        "\n",
        "- The finally block ensures that certain code is executed regardless of whether\n",
        "  an exception occurred or not. It's often used for cleanup tasks like closing files or releasing resources."
      ],
      "metadata": {
        "id": "08t06N6qEbp0"
      }
    },
    {
      "cell_type": "markdown",
      "source": [
        "Q4. What is logging in Python?\n",
        "\n",
        "- Logging is a mechanism to record events or messages during program execution.\n",
        "  It helps in debugging, monitoring, and troubleshooting. Python's logging module provides various levels (e.g., DEBUG, INFO, ERROR) and ways to customize logging behavior.\n",
        "\n"
      ],
      "metadata": {
        "id": "0Xg1xCoAErJA"
      }
    },
    {
      "cell_type": "markdown",
      "source": [
        "Q5. What is the significance of the __del__ method in Python?\n",
        "\n",
        "- The __del__ method, also known as the destructor, is called when an object is\n",
        "  about to be garbage collected. It can be used to release resources or perform cleanup tasks.\n",
        "\n",
        "\n",
        "Q6. What is the difference between import and from...import in Python?\n",
        "\n",
        "-  Import: Imports the entire module into the current namespace.We can  access    its contents using module.object. This avoids naming conflicts but requires more typing.\n",
        "\n",
        "- from...import: Imports specific objects or functions from a module.\n",
        "\n",
        "\n",
        "Q7. How can you handle multiple exceptions in Python?\n",
        "\n",
        "\n",
        "- You can use multiple except blocks to handle different exception types.\n",
        "  Alternatively, you can use a single except block with a generic exception class like Exception.\n",
        "\n",
        "Q8. What is the purpose of the with statement when handling files in Python?\n",
        "\n",
        "\n",
        "- The with statement ensures that a file is properly opened and closed, even if exceptions occur within the block. It simplifies file handling and prevents resource leaks.\n",
        "\n",
        "Q9. What is the difference between multithreading and multiprocessing?\n",
        "\n",
        "- Multithreading: Creates multiple threads within a single process, sharing the same memory space.\n",
        "\n",
        "- Multiprocessing: Creates multiple processes, each with its own memory space.\n",
        "  Multiprocessing is generally more suitable for CPU-bound tasks.\n",
        "\n",
        "Q10. What are the advantages of using logging in a program?\n",
        "\n",
        "- Debugging:  Helps identify and fix errors.\n",
        "- Monitoring:  Tracks program behavior and performance.\n",
        "- Troubleshooting:  Provides information to diagnose and resolve issues.\n",
        "- Auditing: It creates an audit trail of program activities, useful for  \n",
        "  security and compliance purposes.\n",
        "- Analysis: Log data can be analyzed to understand usage patterns, identify\n",
        "  bottlenecks, and optimize program performance.\n",
        "\n",
        "\n",
        "Q11. What is memory management in Python?\n",
        "\n",
        "- Memory management is the process of allocating and deallocating memory for\n",
        "  objects during program execution. Python's garbage collector automatically reclaims memory of objects that are no longer in use.\n",
        "\n",
        "Q12. What are the basic steps involved in exception handling in Python?\n",
        "\n",
        "- Use the try block to enclose the code that might raise an exception.\n",
        "  Use one or more except blocks to handle specific exceptions.\n",
        "  Optionally use a finally block for cleanup tasks.\n",
        "\n",
        "Q13. Why is memory management important in Python?\n",
        "\n",
        "- Memory management is crucial to prevent memory leaks, optimize program\n",
        "  performance, and ensure that resources are used efficiently.\n",
        "\n",
        "Q14. What is the role of try and except in exception handling?\n",
        "\n",
        "- try:   Encloses the code that might raise an exception.\n",
        "- except:  Handles the exception if it occurs.\n",
        "\n",
        "Q15. How does Python's garbage collection system work?\n",
        "\n",
        "- Python's garbage collector uses reference counting and generational garbage\n",
        "  collection to reclaim memory of unused objects.\n",
        "\n",
        "Q16. What is the purpose of the else block in exception handling?\n",
        "\n",
        "- The else block is executed if no exceptions occur within the try block. It's\n",
        "  useful for code that should only run in the absence of errors.\n",
        "\n",
        "Q17. What are the common logging levels in Python?\n",
        "\n",
        "* DEBUG\n",
        "* INFO\n",
        "* WARNING\n",
        "* ERROR\n",
        "* CRITICAL\n",
        "\n",
        "Q18. What is the difference between os.fork() and multiprocessing in Python?\n",
        "\n",
        "- os.fork():  Creates a child process that is a copy of the parent process.\n",
        "- Multiprocessing:  Provides a higher-level interface for creating and managing\n",
        "  multiple processes.\n",
        "\n",
        "\n",
        "Q19. What is the importance of closing a file in Python?\n",
        "\n",
        "- Closing a file releases the resources associated with it, preventing  \n",
        "  potential errors and ensuring that data is properly written to disk.\n",
        "\n",
        "\n",
        "Q20. What is the difference between file.read() and file.readline() in Python?\n",
        "\n",
        "- file.read(): Reads the entire contents of the file.\n",
        "- file.readline(): Reads a single line from the file.\n",
        "\n",
        "\n",
        "Q21. What is the logging module in Python used for?\n",
        "\n",
        "-  The logging module is used for creating and managing log records. It  \n",
        "  provides various levels of logging and ways to customize logging behavior.\n",
        "\n",
        "\n",
        "Q22. What is the os module in Python used for in file handling?\n",
        "\n",
        "- The os module provides functions for interacting with the operating system,\n",
        "  including creating, removing, and renaming files and directories.\n",
        "\n",
        "\n",
        "Q23. What are the challenges associated with memory management in Python?\n",
        "\n",
        "- Circular references can lead to memory leaks.\n",
        "- Large objects can consume significant memory.\n",
        "- Garbage collection can introduce pauses in program execution.\n",
        "\n",
        "\n",
        "Q24. How do you raise an exception manually in Python?\n",
        "\n",
        "- Use the raise statement followed by the exception class and optional\n",
        "  arguments.\n",
        "\n",
        "\n",
        "Q25. Why is it important to use multithreading in certain applications?\n",
        "\n",
        "- Multithreading can improve performance in I/O-bound tasks by allowing the    \n",
        "  program to perform other tasks while waiting for I/O operations to complete.\n",
        "\n"
      ],
      "metadata": {
        "id": "Zbnl5bs6E0FO"
      }
    },
    {
      "cell_type": "markdown",
      "source": [
        "                                           **PRACTICAL QUESTIONS**"
      ],
      "metadata": {
        "id": "CQxgT1VxKusI"
      }
    },
    {
      "cell_type": "markdown",
      "source": [
        "Q1. How can you open a file for writing in Python and write a string to it?\n"
      ],
      "metadata": {
        "id": "jQdXjhcTE3Ag"
      }
    },
    {
      "cell_type": "code",
      "source": [
        "with open('filename.txt', 'w') as file:\n",
        "    file.write(\"This is a string to write to the file.\")"
      ],
      "metadata": {
        "id": "TN8UyBioLX1B"
      },
      "execution_count": null,
      "outputs": []
    },
    {
      "cell_type": "markdown",
      "source": [
        "Q2. Write a Python program to read the contents of a file and print each line.\n"
      ],
      "metadata": {
        "id": "vKUAfKIrLfbr"
      }
    },
    {
      "cell_type": "code",
      "source": [
        "with open('filename.txt', 'r') as file:\n",
        "  Lines = file.readlines()\n",
        "  for line in Lines:\n",
        "    print(line.strip())\n"
      ],
      "metadata": {
        "colab": {
          "base_uri": "https://localhost:8080/"
        },
        "id": "AkSKFjyxLqKc",
        "outputId": "fe2ff880-6ee5-4495-a53b-57f48a52139e"
      },
      "execution_count": null,
      "outputs": [
        {
          "output_type": "stream",
          "name": "stdout",
          "text": [
            "This is a string to write to the file.\n"
          ]
        }
      ]
    },
    {
      "cell_type": "markdown",
      "source": [
        "Q3. How would you handle a case where the file doesn't exist while trying to open it for reading?"
      ],
      "metadata": {
        "id": "i0N9Aq5wMele"
      }
    },
    {
      "cell_type": "code",
      "source": [
        "try:\n",
        "    with open('filename.txt', 'r') as file:\n",
        "        # Read and process the file content here\n",
        "        pass # Add a pas statement to represent the indented block\n",
        "except FileNotFoundError:\n",
        "    print(\"File not found.\")"
      ],
      "metadata": {
        "id": "P565tWL_Mnvp"
      },
      "execution_count": null,
      "outputs": []
    },
    {
      "cell_type": "markdown",
      "source": [
        "Q4. Write a Python script that reads from one file and writes its content to\n",
        "    another file.\n"
      ],
      "metadata": {
        "id": "UGEC3jeqNb6K"
      }
    },
    {
      "source": [
        "# Create the input file if it doesn't exist and add some content to it.\n",
        "with open('input_file.txt', 'w') as f:\n",
        "    f.write(\"This is some text for the input file.\\n\")\n",
        "\n",
        "# Now try to open the files for reading and writing.\n",
        "with open('input_file.txt', 'r') as input_file, open('output_file.txt', 'w') as output_file:\n",
        "    for line in input_file:\n",
        "        output_file.write(line)"
      ],
      "cell_type": "code",
      "metadata": {
        "id": "tji1OnMFN8tZ"
      },
      "execution_count": null,
      "outputs": []
    },
    {
      "cell_type": "markdown",
      "source": [
        "   #ANOTHER SOLUTION OF Q4:"
      ],
      "metadata": {
        "id": "5wWRZmnbPNOQ"
      }
    },
    {
      "source": [
        "try:\n",
        "    # Attempt to open the input file\n",
        "    with open('input_file.txt', 'r') as input_file, open('output_file.txt', 'w') as output_file:\n",
        "        for line in input_file:\n",
        "            output_file.write(line)\n",
        "except FileNotFoundError:\n",
        "    # Handle the case where the file is not found\n",
        "    print(\"Input file not found. Creating a new one...\")\n",
        "    with open('input_file.txt', 'w') as input_file:\n",
        "        input_file.write(\"This is some initial content for the input file.\\n\")\n",
        "    print(\"Input file created. Please add data to 'input_file.txt' and run the script again.\")"
      ],
      "cell_type": "code",
      "metadata": {
        "id": "jsFAUEZoOSmr"
      },
      "execution_count": null,
      "outputs": []
    },
    {
      "cell_type": "markdown",
      "source": [
        "Q5. How would you catch and handle division by zero error in Python?"
      ],
      "metadata": {
        "id": "0JLg4xmaPYBR"
      }
    },
    {
      "cell_type": "code",
      "source": [
        "try:\n",
        "    result = 10 / 0\n",
        "except ZeroDivisionError:\n",
        "      print(\"Error: Division by zero.\")"
      ],
      "metadata": {
        "colab": {
          "base_uri": "https://localhost:8080/"
        },
        "id": "t_O-9Sw9PoMR",
        "outputId": "9680aea1-a927-4a86-998b-3673b53650ad"
      },
      "execution_count": null,
      "outputs": [
        {
          "output_type": "stream",
          "name": "stdout",
          "text": [
            "Error: Division by zero.\n"
          ]
        }
      ]
    },
    {
      "cell_type": "markdown",
      "source": [
        "Q6. Write a Python program that logs an error message to a log file when a\n",
        "    division by zero exception occurs."
      ],
      "metadata": {
        "id": "C1qSdv0dPt8m"
      }
    },
    {
      "cell_type": "code",
      "source": [
        "import logging\n",
        "\n",
        "# Set up logging to write errors to 'error.log'\n",
        "logging.basicConfig(filename='error.log', level=logging.ERROR)\n",
        "\n",
        "try:\n",
        "    result = 10 / 0\n",
        "\n",
        "except ZeroDivisionError:\n",
        "    logging.error(\"Division by zero occurred.\")"
      ],
      "metadata": {
        "colab": {
          "base_uri": "https://localhost:8080/"
        },
        "id": "ZI6X7tKEP_EI",
        "outputId": "4f3cf8ad-b546-4075-c161-3b3bc66a7a09"
      },
      "execution_count": null,
      "outputs": [
        {
          "output_type": "stream",
          "name": "stderr",
          "text": [
            "ERROR:root:Division by zero occurred.\n"
          ]
        }
      ]
    },
    {
      "cell_type": "markdown",
      "source": [
        "Q7. How do you log information at different levels (INFO, ERROR, WARNING) in\n",
        "    Python using the logging module?"
      ],
      "metadata": {
        "id": "kAm21mWEQZ6o"
      }
    },
    {
      "cell_type": "code",
      "source": [
        "import logging\n",
        "\n",
        "logging.basicConfig(filename='app.log', level=logging.DEBUG)\n",
        "\n",
        "logging.debug(\"Debug message\")\n",
        "logging.info(\"Info message\")\n",
        "logging.warning(\"Warning message\")\n",
        "logging.error(\"Error message\")\n",
        "logging.critical(\"Critical message\")\n",
        "\n"
      ],
      "metadata": {
        "colab": {
          "base_uri": "https://localhost:8080/"
        },
        "id": "Eb-58gMkQfOx",
        "outputId": "91f9dc6d-4926-4e48-a6ec-ec8b0b84f76a"
      },
      "execution_count": null,
      "outputs": [
        {
          "output_type": "stream",
          "name": "stderr",
          "text": [
            "WARNING:root:Warning message\n",
            "ERROR:root:Error message\n",
            "CRITICAL:root:Critical message\n"
          ]
        }
      ]
    },
    {
      "cell_type": "markdown",
      "source": [
        "Q8. Write a program to handle a file opening error using exception handling."
      ],
      "metadata": {
        "id": "vIdJtIAkRaNz"
      }
    },
    {
      "source": [
        "try:\n",
        "    with open('filename.txt', 'r') as file:\n",
        "        # Process the file content (Even if it is intentionally empty, it needs to be here)\n",
        "        ...  # Use the ellipsis (...) as a placeholder\n",
        "except FileNotFoundError:\n",
        "    print(\"File not found.\")\n",
        "except IOError:\n",
        "    print(\"An I/O error occurred.\")"
      ],
      "cell_type": "code",
      "metadata": {
        "id": "24Q7rszuSRAD"
      },
      "execution_count": null,
      "outputs": []
    },
    {
      "cell_type": "markdown",
      "source": [
        "Q9. How can you read a file line by line and store its content in a list in\n",
        "    Python?"
      ],
      "metadata": {
        "id": "tlIhFQ60ScqW"
      }
    },
    {
      "cell_type": "code",
      "source": [
        "with open('filename.txt', 'r') as file:\n",
        "    lines = file.readlines()"
      ],
      "metadata": {
        "id": "DsqqpMmESjXx"
      },
      "execution_count": null,
      "outputs": []
    },
    {
      "cell_type": "markdown",
      "source": [
        "Q10. How can you append data to an existing file in Python?"
      ],
      "metadata": {
        "id": "i7NUPRwsSo7S"
      }
    },
    {
      "cell_type": "code",
      "source": [
        "with open('filename.txt', 'a') as file:\n",
        "    file.write(\"This is appended text.\")"
      ],
      "metadata": {
        "id": "VHWahFhdSxxV"
      },
      "execution_count": null,
      "outputs": []
    },
    {
      "cell_type": "markdown",
      "source": [
        "Q11. Write a Python program that uses a try-except block to handle an error  \n",
        "     when attempting to access a dictionary key that doesn't exist."
      ],
      "metadata": {
        "id": "DiDQfnkTS2Ji"
      }
    },
    {
      "cell_type": "code",
      "source": [
        "my_dict = {'key1': 'value1'}\n",
        "\n",
        "try:\n",
        "    value = my_dict['key2']\n",
        "except KeyError:\n",
        "    print(\"Key not found in dictionary.\")"
      ],
      "metadata": {
        "colab": {
          "base_uri": "https://localhost:8080/"
        },
        "id": "jCgVc0a4TC8w",
        "outputId": "e2cb86da-3897-4c29-9aa0-103d214f479a"
      },
      "execution_count": null,
      "outputs": [
        {
          "output_type": "stream",
          "name": "stdout",
          "text": [
            "Key not found in dictionary.\n"
          ]
        }
      ]
    },
    {
      "cell_type": "markdown",
      "source": [
        "Q12. Write a program that demonstrates using multiple except blocks to handle\n",
        "  different types of exceptions."
      ],
      "metadata": {
        "id": "lIaIMcYpTSQC"
      }
    },
    {
      "source": [
        "def divide_numbers(a, b):\n",
        "    try:\n",
        "        result = a / b\n",
        "        print(\"Result:\", result)\n",
        "    except ZeroDivisionError:\n",
        "        print(\"Error: Cannot divide by zero.\")\n",
        "    except TypeError:\n",
        "        print(\"Error: Invalid data types for division.\")\n",
        "    except Exception as e:  # Catch-all for other exceptions\n",
        "        print(\"An unexpected error occurred:\", e)\n",
        "\n",
        "# Examples\n",
        "divide_numbers(10, 2)   # Normal division\n",
        "divide_numbers(10, 0)   # Division by zero\n",
        "divide_numbers(10, 'a') # TypeError"
      ],
      "cell_type": "code",
      "metadata": {
        "colab": {
          "base_uri": "https://localhost:8080/"
        },
        "id": "dB79U5lmTq1c",
        "outputId": "3f6d4d55-3249-4359-ab52-46bdd02ce3d4"
      },
      "execution_count": null,
      "outputs": [
        {
          "output_type": "stream",
          "name": "stdout",
          "text": [
            "Result: 5.0\n",
            "Error: Cannot divide by zero.\n",
            "Error: Invalid data types for division.\n"
          ]
        }
      ]
    },
    {
      "cell_type": "markdown",
      "source": [
        "Q13. How would you check if a file exists before attempting to read it in Python?"
      ],
      "metadata": {
        "id": "AnX8-bNkTzYn"
      }
    },
    {
      "cell_type": "code",
      "source": [
        "import os\n",
        "\n",
        "file_path = \"my_file.txt\"  # Replace with Your file path\n",
        "\n",
        "if os.path.isfile('filename.txt'):\n",
        "    with open('filename.txt', 'r') as file:\n",
        "          # Read and process the file content\n",
        "          print(\"File exists and is being processed.\")\n",
        "else:\n",
        "    print(\"File does not exist.\")"
      ],
      "metadata": {
        "colab": {
          "base_uri": "https://localhost:8080/"
        },
        "id": "Q6lyYN5qT57Y",
        "outputId": "ae9a9a2f-6f98-42a6-867c-fd5f1fee62a9"
      },
      "execution_count": null,
      "outputs": [
        {
          "output_type": "stream",
          "name": "stdout",
          "text": [
            "File exists and is being processed.\n"
          ]
        }
      ]
    },
    {
      "cell_type": "markdown",
      "source": [
        "Q14. Write a program that uses the logging module to log both informational and\n",
        "     error messages."
      ],
      "metadata": {
        "id": "mLzzDnW0UraJ"
      }
    },
    {
      "cell_type": "code",
      "source": [
        "import logging\n",
        "\n",
        "# Configure the logging setup\n",
        "logging.basicConfig(filename='app.log', level=logging.INFO, format='%(asctime)s - %(levelname)s - %(message)s')\n",
        "\n",
        "# Log informational message\n",
        "logging.info(\"This is an informational message.\")\n",
        "\n",
        "# Log an error message\n",
        "try:\n",
        "    result = 10 / 0\n",
        "except ZeroDivisionError:\n",
        "    logging.error(\"Error: Division by zero.\")"
      ],
      "metadata": {
        "colab": {
          "base_uri": "https://localhost:8080/"
        },
        "id": "lPWTseR9Wsqf",
        "outputId": "b725dd83-504c-4418-ef7a-f856fe04b1e5"
      },
      "execution_count": null,
      "outputs": [
        {
          "output_type": "stream",
          "name": "stderr",
          "text": [
            "ERROR:root:Error: Division by zero.\n"
          ]
        }
      ]
    },
    {
      "cell_type": "markdown",
      "source": [
        "Q15.  Write a Python program that prints the content of a file and handles the\n",
        "     case when the file is empty."
      ],
      "metadata": {
        "id": "wGjE96qHXlOO"
      }
    },
    {
      "cell_type": "code",
      "source": [
        "#Write a Python program that prints the content of a file and handles the case when the file is empt\n",
        "def print_file_content(filename):\n",
        "    try:\n",
        "        with open(filename, 'r') as file:\n",
        "            content = file.read()\n",
        "            if content:\n",
        "                print(content)\n",
        "            else:\n",
        "                print(\"File is empty.\")\n",
        "    except FileNotFoundError:\n",
        "        print(f\"File '{filename}' not found.\")\n",
        "\n",
        "# Example\n",
        "print_file_content(\"my_file.txt\")"
      ],
      "metadata": {
        "colab": {
          "base_uri": "https://localhost:8080/"
        },
        "id": "CvAMTjlHXwY9",
        "outputId": "e10d1924-dc80-47cd-aadf-a4764004ab99"
      },
      "execution_count": null,
      "outputs": [
        {
          "output_type": "stream",
          "name": "stdout",
          "text": [
            "File 'my_file.txt' not found.\n"
          ]
        }
      ]
    },
    {
      "cell_type": "markdown",
      "source": [
        "Q16. Demonstrate how to use memory profiling to check the memory usage of a\n",
        "     small program."
      ],
      "metadata": {
        "id": "Dur733IHYAup"
      }
    },
    {
      "source": [
        "!pip install memory_profiler\n",
        "import memory_profiler\n",
        "\n",
        "@memory_profiler.profile\n",
        "def my_function():\n",
        "    # This is a list comprehension that will create a large list in memory.\n",
        "    data = [x * x for x in range(100000)]\n",
        "    # The del keyword is used to delete objects. In this case,\n",
        "    # it will delete the data list, which should immediately free up\n",
        "    # the memory used by the list.\n",
        "    del data\n",
        "    return 'Memory profiling completed.'\n",
        "\n",
        "# Function call and output print.\n",
        "result = my_function()\n",
        "print(result)"
      ],
      "cell_type": "code",
      "metadata": {
        "colab": {
          "base_uri": "https://localhost:8080/"
        },
        "id": "spmJL9stbkNF",
        "outputId": "7b76ea48-8673-4c90-de02-10ca99add9d3"
      },
      "execution_count": null,
      "outputs": [
        {
          "output_type": "stream",
          "name": "stdout",
          "text": [
            "Requirement already satisfied: memory_profiler in /usr/local/lib/python3.10/dist-packages (0.61.0)\n",
            "Requirement already satisfied: psutil in /usr/local/lib/python3.10/dist-packages (from memory_profiler) (5.9.5)\n",
            "ERROR: Could not find file <ipython-input-63-8a77bed1092f>\n",
            "NOTE: %mprun can only be used on functions defined in physical files, and not in the IPython environment.\n",
            "Memory profiling completed.\n"
          ]
        }
      ]
    },
    {
      "cell_type": "markdown",
      "source": [
        "#ANOTHER SOLUTION OF Q16"
      ],
      "metadata": {
        "id": "ydhUiVUciBVK"
      }
    },
    {
      "source": [
        "!pip install memory_profiler\n",
        "import memory_profiler\n",
        "\n",
        "@memory_profiler.profile\n",
        "def simple_function():\n",
        "    # Create a list of numbers.\n",
        "    numbers = list(range(10000))\n",
        "    return \"Memory profiling done\"  # Return a simple message\n",
        "\n",
        "# Call the function to profile.\n",
        "simple_function()"
      ],
      "cell_type": "code",
      "metadata": {
        "colab": {
          "base_uri": "https://localhost:8080/",
          "height": 105
        },
        "id": "3O7eY9Aab3-z",
        "outputId": "d3334b96-5eac-4dab-8729-9b426d467d73"
      },
      "execution_count": null,
      "outputs": [
        {
          "output_type": "stream",
          "name": "stdout",
          "text": [
            "Requirement already satisfied: memory_profiler in /usr/local/lib/python3.10/dist-packages (0.61.0)\n",
            "Requirement already satisfied: psutil in /usr/local/lib/python3.10/dist-packages (from memory_profiler) (5.9.5)\n",
            "ERROR: Could not find file <ipython-input-62-fe556cd10621>\n",
            "NOTE: %mprun can only be used on functions defined in physical files, and not in the IPython environment.\n"
          ]
        },
        {
          "output_type": "execute_result",
          "data": {
            "text/plain": [
              "'Memory profiling done'"
            ],
            "application/vnd.google.colaboratory.intrinsic+json": {
              "type": "string"
            }
          },
          "metadata": {},
          "execution_count": 62
        }
      ]
    },
    {
      "cell_type": "markdown",
      "source": [
        "Q17. Write a Python program to create and write a list of numbers to a file,  \n",
        "      one number per line."
      ],
      "metadata": {
        "id": "I1VFcatOYl1P"
      }
    },
    {
      "cell_type": "code",
      "source": [
        "numbers = [1, 2, 3, 4, 5]\n",
        "\n",
        "with open(\"numbers.txt\", \"w\") as file:\n",
        "    for number in numbers:\n",
        "        file.write(str(number) + \"\\n\")\n",
        "\n",
        "print(\"Numbers written to file!\")"
      ],
      "metadata": {
        "colab": {
          "base_uri": "https://localhost:8080/"
        },
        "id": "xUHVwtx0YLDU",
        "outputId": "0ef35a4d-ac6a-49ec-9f54-fe2f4c833d11"
      },
      "execution_count": null,
      "outputs": [
        {
          "output_type": "stream",
          "name": "stdout",
          "text": [
            "Numbers written to file!\n"
          ]
        }
      ]
    },
    {
      "cell_type": "markdown",
      "source": [
        "Q18. How would you implement a basic logging setup that logs to a file with\n",
        "     rotation after 1MB?"
      ],
      "metadata": {
        "id": "qSzfPxXIYuK1"
      }
    },
    {
      "cell_type": "code",
      "source": [
        "import logging\n",
        "from logging.handlers import RotatingFileHandler\n",
        "\n",
        "# Create a rotating file handler\n",
        "handler = RotatingFileHandler(\"app.log\", maxBytes=1024 * 1024, backupCount=5)\n",
        "\n",
        "# Configure the logging setup\n",
        "logging.basicConfig(level=logging.INFO, format='%(asctime)s - %(levelname)s - %(message)s', handlers=[handler])\n",
        "\n",
        "# Log some messages\n",
        "logging.info(\"This is an informational message.\")"
      ],
      "metadata": {
        "id": "HTtLXbYXYv3-"
      },
      "execution_count": null,
      "outputs": []
    },
    {
      "cell_type": "markdown",
      "source": [
        "Q19. Write a program that handles both IndexError and KeyError using a       \n",
        "     try-except block."
      ],
      "metadata": {
        "id": "oqXliskkY1oE"
      }
    },
    {
      "cell_type": "code",
      "source": [
        "my_list = [1, 2, 3]\n",
        "my_dict = {\"key1\": \"value1\"}\n",
        "\n",
        "try:\n",
        "    value = my_list[5]  # Will raise IndexError\n",
        "    value = my_dict[\"key2\"]  # Will raise KeyError\n",
        "except (IndexError, KeyError) as e:\n",
        "    print(\"Error:\", e)"
      ],
      "metadata": {
        "colab": {
          "base_uri": "https://localhost:8080/"
        },
        "id": "wAg19AFoY4pm",
        "outputId": "092c1457-1da1-42eb-c050-c783c8836715"
      },
      "execution_count": null,
      "outputs": [
        {
          "output_type": "stream",
          "name": "stdout",
          "text": [
            "Error: list index out of range\n"
          ]
        }
      ]
    },
    {
      "cell_type": "markdown",
      "source": [
        "Q20. How would you open a file and read its contents using a context manager  \n",
        "     in Python?"
      ],
      "metadata": {
        "id": "f2feikv-Y8YI"
      }
    },
    {
      "source": [
        "import os\n",
        "\n",
        "# Check if the file exists before trying to open it\n",
        "if os.path.exists(\"my_file.txt\"):\n",
        "    with open(\"my_file.txt\", \"r\") as file:\n",
        "        for line in file:\n",
        "            print(line, end=\"\")  # end=\"\" prevents extra newline\n",
        "else:\n",
        "    print(\"Error: The file 'my_file.txt' does not exist.\")"
      ],
      "cell_type": "code",
      "metadata": {
        "colab": {
          "base_uri": "https://localhost:8080/"
        },
        "id": "YkJ9j2Ckd-NM",
        "outputId": "38b87ecd-07ed-483e-dc2a-5e8979d68f52"
      },
      "execution_count": null,
      "outputs": [
        {
          "output_type": "stream",
          "name": "stdout",
          "text": [
            "Error: The file 'my_file.txt' does not exist.\n"
          ]
        }
      ]
    },
    {
      "cell_type": "markdown",
      "source": [
        "Q21. Write a Python program that reads a file and prints the number of\n",
        "     occurrences of a specific word."
      ],
      "metadata": {
        "id": "wZ5KwX6KZJI9"
      }
    },
    {
      "source": [
        "import os\n",
        "\n",
        "def count_word_occurrences(filename, word):\n",
        "    count = 0\n",
        "    # Check if the file exists before trying to open it\n",
        "    if os.path.exists(filename):\n",
        "        with open(filename, \"r\") as file:\n",
        "            for line in file:\n",
        "                words = line.split()\n",
        "                count += words.count(word)\n",
        "        return count\n",
        "    else:\n",
        "        print(f\"Error: The file '{filename}' does not exist.\")\n",
        "        return 0  # or raise FileNotFoundError for stricter handling\n",
        "\n",
        "\n",
        "# Example usage\n",
        "filename = \"my_file.txt\"\n",
        "word = \"the\"\n",
        "occurrences = count_word_occurrences(filename, word)\n",
        "print(f\"The word '{word}' occurs {occurrences} times in '{filename}'.\")"
      ],
      "cell_type": "code",
      "metadata": {
        "colab": {
          "base_uri": "https://localhost:8080/"
        },
        "id": "-1swN1GofZ5s",
        "outputId": "c3266bfc-1729-4f42-86a0-ba7aee9cdda2"
      },
      "execution_count": null,
      "outputs": [
        {
          "output_type": "stream",
          "name": "stdout",
          "text": [
            "Error: The file 'my_file.txt' does not exist.\n",
            "The word 'the' occurs 0 times in 'my_file.txt'.\n"
          ]
        }
      ]
    },
    {
      "cell_type": "markdown",
      "source": [
        "Q22. How can you check if a file is empty before attempting to read its\n",
        "     contents?"
      ],
      "metadata": {
        "id": "3QS9vCRyZPXm"
      }
    },
    {
      "source": [
        "import os\n",
        "\n",
        "def is_file_empty(file_path):\n",
        "    \"\"\"Checks if a file is empty.\n",
        "\n",
        "    Args:\n",
        "        file_path: The path to the file.\n",
        "\n",
        "    Returns:\n",
        "        True if the file is empty, False otherwise.\n",
        "    \"\"\"\n",
        "    return os.path.exists(file_path) and os.stat(file_path).st_size == 0\n",
        "\n",
        "# Example usage\n",
        "file_path = \"my_file.txt\"\n",
        "\n",
        "# Before attempting to open the file, check if it exists\n",
        "if os.path.exists(file_path):\n",
        "    if is_file_empty(file_path):\n",
        "        print(\"File is empty.\")\n",
        "    else:\n",
        "        # Read the file content here\n",
        "        with open(file_path, \"r\") as file:\n",
        "            content = file.read()\n",
        "            print(content)\n",
        "else:\n",
        "    print(f\"Error: The file '{file_path}' does not exist.\")\n",
        "    # You can optionally create the file here if it doesn't exist:\n",
        "    # with open(file_path, \"w\") as file:\n",
        "    #     file.write(\"This is a new file.\")\n",
        "    #     print(f\"File '{file_path}' created.\")"
      ],
      "cell_type": "code",
      "metadata": {
        "colab": {
          "base_uri": "https://localhost:8080/"
        },
        "id": "Sj15Ar9Jgc8G",
        "outputId": "d3618e35-d6f6-405c-fdb8-a0b061d6f5ff"
      },
      "execution_count": null,
      "outputs": [
        {
          "output_type": "stream",
          "name": "stdout",
          "text": [
            "Error: The file 'my_file.txt' does not exist.\n"
          ]
        }
      ]
    },
    {
      "cell_type": "markdown",
      "source": [
        "Q23. Write a Python program that writes to a log file when an error occurs\n",
        "     during file handling."
      ],
      "metadata": {
        "id": "NIm7NbfhZcRj"
      }
    },
    {
      "source": [
        "import logging\n",
        "\n",
        "logging.basicConfig(filename=\"file_handling_errors.log\", level=logging.ERROR)\n",
        "\n",
        "try:\n",
        "    with open(\"nonexistent_file.txt\", \"r\") as file:\n",
        "        # Process file content\n",
        "        pass  # Add a pass statement to create an indented block\n",
        "except FileNotFoundError:\n",
        "    logging.error(\"File not found.\")"
      ],
      "cell_type": "code",
      "metadata": {
        "colab": {
          "base_uri": "https://localhost:8080/"
        },
        "id": "3ZDTZ63ohGhS",
        "outputId": "1b963794-8bad-4074-c457-cad067228ca3"
      },
      "execution_count": null,
      "outputs": [
        {
          "output_type": "stream",
          "name": "stderr",
          "text": [
            "ERROR:root:File not found.\n"
          ]
        }
      ]
    }
  ]
}